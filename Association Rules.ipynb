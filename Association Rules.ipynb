{
 "cells": [
  {
   "cell_type": "markdown",
   "metadata": {},
   "source": [
    "# Association Rules"
   ]
  },
  {
   "cell_type": "markdown",
   "metadata": {},
   "source": [
    "For our marketing and promotions team, we want to know which subset of products are the most frequent purchases of our customers. \n",
    "\n",
    "Given a .csv (or .xlsx) file containing all orders from the company, create a pandas dataframe wherein the rows are the Order numbers (OrderNum) and the columns are all the products. The data inside these cells contain a 1 or 0 wherein 1 would mean that the Order Number purchased the given product and 0 if otherwise.\n",
    "\n",
    "Using this pandas dataframe, define three functions (1) Support, (2) Confidence, and (3) Lift.\n",
    "\n"
   ]
  },
  {
   "cell_type": "code",
   "execution_count": 1,
   "metadata": {},
   "outputs": [],
   "source": [
    "# Initializing everything\n",
    "import pandas as pd\n",
    "import itertools as it\n",
    "import numpy as np\n",
    "import time\n",
    "\n",
    "df = pd.read_excel(r\"sample order basket.xlsx\")"
   ]
  },
  {
   "cell_type": "code",
   "execution_count": 2,
   "metadata": {},
   "outputs": [
    {
     "name": "stdout",
     "output_type": "stream",
     "text": [
      "['apple', 'banana', 'carrot', 'eggplant']\n"
     ]
    }
   ],
   "source": [
    "#Gets all products being sold \n",
    "product_list = list(df[\"Product\"].unique())\n",
    "product_list.sort()\n",
    "\n",
    "print(product_list)"
   ]
  },
  {
   "cell_type": "code",
   "execution_count": 3,
   "metadata": {
    "scrolled": false
   },
   "outputs": [],
   "source": [
    "# Creating the table of products for each transaction\n",
    "unique_IDs = df.OrderNum.unique()\n",
    "binary_table = pd.DataFrame(index = unique_IDs,columns = product_list,data=0)\n",
    "\n",
    "for product in product_list:\n",
    "    dummy_df = df[df[\"Product\"]==product]\n",
    "\n",
    "    for number in dummy_df[\"OrderNum\"]:\n",
    "        binary_table.loc[number,product] = 1\n"
   ]
  },
  {
   "cell_type": "code",
   "execution_count": 4,
   "metadata": {},
   "outputs": [
    {
     "data": {
      "text/html": [
       "<div>\n",
       "<style scoped>\n",
       "    .dataframe tbody tr th:only-of-type {\n",
       "        vertical-align: middle;\n",
       "    }\n",
       "\n",
       "    .dataframe tbody tr th {\n",
       "        vertical-align: top;\n",
       "    }\n",
       "\n",
       "    .dataframe thead th {\n",
       "        text-align: right;\n",
       "    }\n",
       "</style>\n",
       "<table border=\"1\" class=\"dataframe\">\n",
       "  <thead>\n",
       "    <tr style=\"text-align: right;\">\n",
       "      <th></th>\n",
       "      <th>apple</th>\n",
       "      <th>banana</th>\n",
       "      <th>carrot</th>\n",
       "      <th>eggplant</th>\n",
       "    </tr>\n",
       "  </thead>\n",
       "  <tbody>\n",
       "    <tr>\n",
       "      <td>1000</td>\n",
       "      <td>0</td>\n",
       "      <td>0</td>\n",
       "      <td>1</td>\n",
       "      <td>1</td>\n",
       "    </tr>\n",
       "    <tr>\n",
       "      <td>1001</td>\n",
       "      <td>1</td>\n",
       "      <td>1</td>\n",
       "      <td>0</td>\n",
       "      <td>0</td>\n",
       "    </tr>\n",
       "    <tr>\n",
       "      <td>1002</td>\n",
       "      <td>0</td>\n",
       "      <td>0</td>\n",
       "      <td>0</td>\n",
       "      <td>1</td>\n",
       "    </tr>\n",
       "    <tr>\n",
       "      <td>1003</td>\n",
       "      <td>0</td>\n",
       "      <td>0</td>\n",
       "      <td>0</td>\n",
       "      <td>1</td>\n",
       "    </tr>\n",
       "    <tr>\n",
       "      <td>1004</td>\n",
       "      <td>0</td>\n",
       "      <td>1</td>\n",
       "      <td>0</td>\n",
       "      <td>0</td>\n",
       "    </tr>\n",
       "    <tr>\n",
       "      <td>1005</td>\n",
       "      <td>0</td>\n",
       "      <td>0</td>\n",
       "      <td>0</td>\n",
       "      <td>1</td>\n",
       "    </tr>\n",
       "    <tr>\n",
       "      <td>1006</td>\n",
       "      <td>1</td>\n",
       "      <td>0</td>\n",
       "      <td>0</td>\n",
       "      <td>1</td>\n",
       "    </tr>\n",
       "    <tr>\n",
       "      <td>1007</td>\n",
       "      <td>1</td>\n",
       "      <td>1</td>\n",
       "      <td>1</td>\n",
       "      <td>0</td>\n",
       "    </tr>\n",
       "    <tr>\n",
       "      <td>1008</td>\n",
       "      <td>1</td>\n",
       "      <td>0</td>\n",
       "      <td>0</td>\n",
       "      <td>1</td>\n",
       "    </tr>\n",
       "    <tr>\n",
       "      <td>1009</td>\n",
       "      <td>0</td>\n",
       "      <td>0</td>\n",
       "      <td>0</td>\n",
       "      <td>1</td>\n",
       "    </tr>\n",
       "    <tr>\n",
       "      <td>1010</td>\n",
       "      <td>1</td>\n",
       "      <td>1</td>\n",
       "      <td>1</td>\n",
       "      <td>1</td>\n",
       "    </tr>\n",
       "  </tbody>\n",
       "</table>\n",
       "</div>"
      ],
      "text/plain": [
       "      apple  banana  carrot  eggplant\n",
       "1000      0       0       1         1\n",
       "1001      1       1       0         0\n",
       "1002      0       0       0         1\n",
       "1003      0       0       0         1\n",
       "1004      0       1       0         0\n",
       "1005      0       0       0         1\n",
       "1006      1       0       0         1\n",
       "1007      1       1       1         0\n",
       "1008      1       0       0         1\n",
       "1009      0       0       0         1\n",
       "1010      1       1       1         1"
      ]
     },
     "execution_count": 4,
     "metadata": {},
     "output_type": "execute_result"
    }
   ],
   "source": [
    "binary_table"
   ]
  },
  {
   "cell_type": "code",
   "execution_count": 5,
   "metadata": {},
   "outputs": [
    {
     "data": {
      "text/plain": [
       "0.2727272727272727"
      ]
     },
     "execution_count": 5,
     "metadata": {},
     "output_type": "execute_result"
    }
   ],
   "source": [
    "# Defining the \"Support\" function\n",
    "# Take note that the parameter takes in an iterable\n",
    "\n",
    "def Support(List):\n",
    "    total_rows = len(binary_table)\n",
    "    \n",
    "    dummy_df = binary_table.copy()\n",
    "    for element in List:\n",
    "        dummy_df = dummy_df[dummy_df[element.lower()]==1]\n",
    "    \n",
    "    instances = len(dummy_df)\n",
    "    return instances/total_rows\n",
    "\n",
    "Support([\"apple\",\"banana\"])"
   ]
  },
  {
   "cell_type": "code",
   "execution_count": 6,
   "metadata": {},
   "outputs": [
    {
     "data": {
      "text/plain": [
       "0.6"
      ]
     },
     "execution_count": 6,
     "metadata": {},
     "output_type": "execute_result"
    }
   ],
   "source": [
    "# Defining the \"Confidence\" function\n",
    "# Take note that the parameters are strings\n",
    "\n",
    "def Confidence(first,second):\n",
    "    return Support([first.lower(),second.lower()])/Support([first.lower()])\n",
    "    \n",
    "Confidence(\"apple\",\"banana\")"
   ]
  },
  {
   "cell_type": "code",
   "execution_count": 7,
   "metadata": {
    "scrolled": true
   },
   "outputs": [
    {
     "data": {
      "text/plain": [
       "1.65"
      ]
     },
     "execution_count": 7,
     "metadata": {},
     "output_type": "execute_result"
    }
   ],
   "source": [
    "# Defining the \"Lift\" function\n",
    "\n",
    "def Lift(first,second):\n",
    "    return Confidence(first,second)/Support([second.lower()])\n",
    "\n",
    "Lift(\"apple\",\"banana\")"
   ]
  },
  {
   "cell_type": "markdown",
   "metadata": {},
   "source": [
    "#### Original code I wrote which I thought might be needed, but later found out that it won't be necessary to code the Support, Confidence, and Lift functions."
   ]
  },
  {
   "cell_type": "code",
   "execution_count": 8,
   "metadata": {
    "scrolled": true
   },
   "outputs": [
    {
     "data": {
      "text/plain": [
       "{('apple',): 0,\n",
       " ('banana',): 0,\n",
       " ('carrot',): 0,\n",
       " ('eggplant',): 0,\n",
       " ('apple', 'banana'): 0,\n",
       " ('apple', 'carrot'): 0,\n",
       " ('apple', 'eggplant'): 0,\n",
       " ('banana', 'carrot'): 0,\n",
       " ('banana', 'eggplant'): 0,\n",
       " ('carrot', 'eggplant'): 0,\n",
       " ('apple', 'banana', 'carrot'): 0,\n",
       " ('apple', 'banana', 'eggplant'): 0,\n",
       " ('apple', 'carrot', 'eggplant'): 0,\n",
       " ('banana', 'carrot', 'eggplant'): 0,\n",
       " ('apple', 'banana', 'carrot', 'eggplant'): 0}"
      ]
     },
     "execution_count": 8,
     "metadata": {},
     "output_type": "execute_result"
    }
   ],
   "source": [
    "# NOT NEEDED ANYMORE!\n",
    "#combinations_dict is the name of all combinations given the list of products (product_list)\n",
    "combinations_dict = {}\n",
    "\n",
    "for i in range(1,len(product_list)+1):\n",
    "    combinations = list(it.combinations(product_list,i))\n",
    "\n",
    "    for grouping in combinations:\n",
    "        combinations_dict[grouping] = 0\n",
    "\n",
    "combinations_dict"
   ]
  },
  {
   "cell_type": "code",
   "execution_count": 9,
   "metadata": {
    "scrolled": true
   },
   "outputs": [
    {
     "data": {
      "text/html": [
       "<div>\n",
       "<style scoped>\n",
       "    .dataframe tbody tr th:only-of-type {\n",
       "        vertical-align: middle;\n",
       "    }\n",
       "\n",
       "    .dataframe tbody tr th {\n",
       "        vertical-align: top;\n",
       "    }\n",
       "\n",
       "    .dataframe thead th {\n",
       "        text-align: right;\n",
       "    }\n",
       "</style>\n",
       "<table border=\"1\" class=\"dataframe\">\n",
       "  <thead>\n",
       "    <tr style=\"text-align: right;\">\n",
       "      <th></th>\n",
       "      <th>OrderNum</th>\n",
       "      <th>Product</th>\n",
       "    </tr>\n",
       "  </thead>\n",
       "  <tbody>\n",
       "    <tr>\n",
       "      <td>0</td>\n",
       "      <td>1000</td>\n",
       "      <td>(carrot, eggplant)</td>\n",
       "    </tr>\n",
       "    <tr>\n",
       "      <td>1</td>\n",
       "      <td>1001</td>\n",
       "      <td>(apple, banana)</td>\n",
       "    </tr>\n",
       "    <tr>\n",
       "      <td>2</td>\n",
       "      <td>1002</td>\n",
       "      <td>(eggplant,)</td>\n",
       "    </tr>\n",
       "    <tr>\n",
       "      <td>3</td>\n",
       "      <td>1003</td>\n",
       "      <td>(eggplant,)</td>\n",
       "    </tr>\n",
       "    <tr>\n",
       "      <td>4</td>\n",
       "      <td>1004</td>\n",
       "      <td>(banana,)</td>\n",
       "    </tr>\n",
       "    <tr>\n",
       "      <td>5</td>\n",
       "      <td>1005</td>\n",
       "      <td>(eggplant,)</td>\n",
       "    </tr>\n",
       "    <tr>\n",
       "      <td>6</td>\n",
       "      <td>1006</td>\n",
       "      <td>(apple, eggplant)</td>\n",
       "    </tr>\n",
       "    <tr>\n",
       "      <td>7</td>\n",
       "      <td>1007</td>\n",
       "      <td>(apple, banana, carrot)</td>\n",
       "    </tr>\n",
       "    <tr>\n",
       "      <td>8</td>\n",
       "      <td>1008</td>\n",
       "      <td>(apple, eggplant)</td>\n",
       "    </tr>\n",
       "    <tr>\n",
       "      <td>9</td>\n",
       "      <td>1009</td>\n",
       "      <td>(eggplant,)</td>\n",
       "    </tr>\n",
       "    <tr>\n",
       "      <td>10</td>\n",
       "      <td>1010</td>\n",
       "      <td>(apple, banana, carrot, eggplant)</td>\n",
       "    </tr>\n",
       "  </tbody>\n",
       "</table>\n",
       "</div>"
      ],
      "text/plain": [
       "   OrderNum                            Product\n",
       "0      1000                 (carrot, eggplant)\n",
       "1      1001                    (apple, banana)\n",
       "2      1002                        (eggplant,)\n",
       "3      1003                        (eggplant,)\n",
       "4      1004                          (banana,)\n",
       "5      1005                        (eggplant,)\n",
       "6      1006                  (apple, eggplant)\n",
       "7      1007            (apple, banana, carrot)\n",
       "8      1008                  (apple, eggplant)\n",
       "9      1009                        (eggplant,)\n",
       "10     1010  (apple, banana, carrot, eggplant)"
      ]
     },
     "execution_count": 9,
     "metadata": {},
     "output_type": "execute_result"
    }
   ],
   "source": [
    "# NOT NEEDED ANYMORE!\n",
    "# Getting the whole transaction (using a reference I found online)\n",
    "\n",
    "def sorter(samplelist):\n",
    "    samplelist.sort()\n",
    "    return samplelist\n",
    "\n",
    "def convert(samplelist):\n",
    "    return tuple(i for i in samplelist)\n",
    "\n",
    "\n",
    "# code from https://stackoverflow.com/questions/22219004/how-to-group-dataframe-rows-into-list-in-pandas-groupby\n",
    "def f(df):\n",
    "    keys, values = df.sort_values('OrderNum').values.T\n",
    "    ukeys, index = np.unique(keys, True)\n",
    "    arrays = np.split(values, index[1:])\n",
    "    df2 = pd.DataFrame({'OrderNum':ukeys, 'Product':[list(a) for a in arrays]})\n",
    "    df2[\"Product\"] = df2[\"Product\"].apply(sorter)\n",
    "    df2[\"Product\"] = df2[\"Product\"].apply(convert)\n",
    "    return df2\n",
    "\n",
    "df2 = f(df)\n",
    "df2"
   ]
  },
  {
   "cell_type": "code",
   "execution_count": 10,
   "metadata": {
    "scrolled": true
   },
   "outputs": [
    {
     "data": {
      "text/html": [
       "<div>\n",
       "<style scoped>\n",
       "    .dataframe tbody tr th:only-of-type {\n",
       "        vertical-align: middle;\n",
       "    }\n",
       "\n",
       "    .dataframe tbody tr th {\n",
       "        vertical-align: top;\n",
       "    }\n",
       "\n",
       "    .dataframe thead th {\n",
       "        text-align: right;\n",
       "    }\n",
       "</style>\n",
       "<table border=\"1\" class=\"dataframe\">\n",
       "  <thead>\n",
       "    <tr style=\"text-align: right;\">\n",
       "      <th></th>\n",
       "      <th>OrderNum</th>\n",
       "      <th>Products</th>\n",
       "    </tr>\n",
       "  </thead>\n",
       "  <tbody>\n",
       "    <tr>\n",
       "      <td>0</td>\n",
       "      <td>1000</td>\n",
       "      <td>(carrot, eggplant)</td>\n",
       "    </tr>\n",
       "    <tr>\n",
       "      <td>1</td>\n",
       "      <td>1001</td>\n",
       "      <td>(apple, banana)</td>\n",
       "    </tr>\n",
       "    <tr>\n",
       "      <td>2</td>\n",
       "      <td>1002</td>\n",
       "      <td>(eggplant,)</td>\n",
       "    </tr>\n",
       "    <tr>\n",
       "      <td>3</td>\n",
       "      <td>1003</td>\n",
       "      <td>(eggplant,)</td>\n",
       "    </tr>\n",
       "    <tr>\n",
       "      <td>4</td>\n",
       "      <td>1004</td>\n",
       "      <td>(banana,)</td>\n",
       "    </tr>\n",
       "    <tr>\n",
       "      <td>5</td>\n",
       "      <td>1005</td>\n",
       "      <td>(eggplant,)</td>\n",
       "    </tr>\n",
       "    <tr>\n",
       "      <td>6</td>\n",
       "      <td>1006</td>\n",
       "      <td>(apple, eggplant)</td>\n",
       "    </tr>\n",
       "    <tr>\n",
       "      <td>7</td>\n",
       "      <td>1007</td>\n",
       "      <td>(apple, banana, carrot)</td>\n",
       "    </tr>\n",
       "    <tr>\n",
       "      <td>8</td>\n",
       "      <td>1008</td>\n",
       "      <td>(apple, eggplant)</td>\n",
       "    </tr>\n",
       "    <tr>\n",
       "      <td>9</td>\n",
       "      <td>1009</td>\n",
       "      <td>(eggplant,)</td>\n",
       "    </tr>\n",
       "    <tr>\n",
       "      <td>10</td>\n",
       "      <td>1010</td>\n",
       "      <td>(apple, banana, carrot, eggplant)</td>\n",
       "    </tr>\n",
       "  </tbody>\n",
       "</table>\n",
       "</div>"
      ],
      "text/plain": [
       "   OrderNum                           Products\n",
       "0      1000                 (carrot, eggplant)\n",
       "1      1001                    (apple, banana)\n",
       "2      1002                        (eggplant,)\n",
       "3      1003                        (eggplant,)\n",
       "4      1004                          (banana,)\n",
       "5      1005                        (eggplant,)\n",
       "6      1006                  (apple, eggplant)\n",
       "7      1007            (apple, banana, carrot)\n",
       "8      1008                  (apple, eggplant)\n",
       "9      1009                        (eggplant,)\n",
       "10     1010  (apple, banana, carrot, eggplant)"
      ]
     },
     "execution_count": 10,
     "metadata": {},
     "output_type": "execute_result"
    }
   ],
   "source": [
    "# NOT NEEDED ANYMORE!!!\n",
    "# Getting the whole transaction (second method, without using the link online)\n",
    "\n",
    "unique_IDs = df.OrderNum.unique()\n",
    "\n",
    "transactions = {}\n",
    "\n",
    "for element in unique_IDs:\n",
    "    items = list(df[df[\"OrderNum\"]==element][\"Product\"].values)\n",
    "    items.sort()\n",
    "    items = tuple(items)\n",
    "    transactions[str(element)] = items\n",
    "\n",
    "df3 = pd.DataFrame(transactions.keys())\n",
    "df3[\"Orders\"] = transactions.values()\n",
    "df3.columns = [\"OrderNum\",\"Products\"]\n",
    "df3.reset_index(inplace=True,drop=True)\n",
    "df3\n"
   ]
  },
  {
   "cell_type": "code",
   "execution_count": null,
   "metadata": {},
   "outputs": [],
   "source": []
  }
 ],
 "metadata": {
  "kernelspec": {
   "display_name": "Python 3",
   "language": "python",
   "name": "python3"
  },
  "language_info": {
   "codemirror_mode": {
    "name": "ipython",
    "version": 3
   },
   "file_extension": ".py",
   "mimetype": "text/x-python",
   "name": "python",
   "nbconvert_exporter": "python",
   "pygments_lexer": "ipython3",
   "version": "3.7.4"
  }
 },
 "nbformat": 4,
 "nbformat_minor": 2
}
